{
 "cells": [
  {
   "cell_type": "code",
   "execution_count": 1,
   "id": "17101935",
   "metadata": {},
   "outputs": [],
   "source": [
    "import numpy as np"
   ]
  },
  {
   "cell_type": "code",
   "execution_count": null,
   "id": "19f0eae7",
   "metadata": {},
   "outputs": [
    {
     "name": "stdout",
     "output_type": "stream",
     "text": [
      "[[1 2]\n",
      " [3 4]\n",
      " [5 6]]\n"
     ]
    }
   ],
   "source": [
    "# Reshaping\n",
    "arr = np.array([1,2,3,4,5,6])\n",
    "reshaped = arr.reshape(3,2)\n",
    "print(reshaped)"
   ]
  },
  {
   "cell_type": "code",
   "execution_count": 15,
   "id": "875c4593",
   "metadata": {},
   "outputs": [
    {
     "name": "stdout",
     "output_type": "stream",
     "text": [
      "[[1 2 3]\n",
      " [4 5 6]]\n"
     ]
    }
   ],
   "source": [
    "reshaped = arr.reshape(2,-1)\n",
    "print(reshaped)"
   ]
  },
  {
   "cell_type": "code",
   "execution_count": 25,
   "id": "dd6c4a6e",
   "metadata": {},
   "outputs": [
    {
     "name": "stdout",
     "output_type": "stream",
     "text": [
      "[[1 2 3 1]\n",
      " [2 3 1 2]\n",
      " [3 1 2 3]]\n"
     ]
    }
   ],
   "source": [
    "# resizing\n",
    "arr1 = np.array([1,2,3])\n",
    "resize = np.resize(arr1,(3,4))\n",
    "print(resize)\n"
   ]
  },
  {
   "cell_type": "code",
   "execution_count": 34,
   "id": "a930077a",
   "metadata": {},
   "outputs": [
    {
     "name": "stdout",
     "output_type": "stream",
     "text": [
      "[[1 2 3 1]\n",
      " [2 3 1 2]\n",
      " [3 1 2 3]]\n",
      "[1 2 3 1 2 3 1 2 3 1 2 3]\n"
     ]
    }
   ],
   "source": [
    "# flattening\n",
    "print(resize)\n",
    "arr2 = resize.flatten()\n",
    "print(arr2)"
   ]
  },
  {
   "cell_type": "code",
   "execution_count": 36,
   "id": "10872de4",
   "metadata": {},
   "outputs": [
    {
     "name": "stdout",
     "output_type": "stream",
     "text": [
      "[1 2 3 1 2 3 1 2 3 1 2 3]\n"
     ]
    }
   ],
   "source": [
    "# ravel \n",
    "ravel = resize.ravel()\n",
    "print(ravel)"
   ]
  },
  {
   "cell_type": "code",
   "execution_count": 37,
   "id": "63247cc6",
   "metadata": {},
   "outputs": [],
   "source": [
    "ravel[0] = 125"
   ]
  },
  {
   "cell_type": "code",
   "execution_count": 38,
   "id": "03d82289",
   "metadata": {},
   "outputs": [
    {
     "name": "stdout",
     "output_type": "stream",
     "text": [
      "[[125   2   3   1]\n",
      " [  2   3   1   2]\n",
      " [  3   1   2   3]]\n",
      "[125   2   3   1   2   3   1   2   3   1   2   3]\n"
     ]
    }
   ],
   "source": [
    "print(resize)\n",
    "print(ravel)"
   ]
  },
  {
   "cell_type": "code",
   "execution_count": 39,
   "id": "172881f8",
   "metadata": {},
   "outputs": [
    {
     "name": "stdout",
     "output_type": "stream",
     "text": [
      "[[125   2   3   1]\n",
      " [  2   3   1   2]\n",
      " [  3   1   2   3]]\n",
      "[  1   2   3   1   2   3   1   2   3   1 480   3]\n"
     ]
    }
   ],
   "source": [
    "print(resize)\n",
    "arr2[10]=480 #flattened resize\n",
    "print(arr2)\n",
    "\n"
   ]
  },
  {
   "cell_type": "code",
   "execution_count": 40,
   "id": "733ba1c1",
   "metadata": {},
   "outputs": [
    {
     "name": "stdout",
     "output_type": "stream",
     "text": [
      "[[1 2 3]\n",
      " [4 5 6]]\n",
      "[[1 4]\n",
      " [2 5]\n",
      " [3 6]]\n"
     ]
    }
   ],
   "source": [
    "# transposing\n",
    "arr3 = np.array([[1,2,3],[4,5,6]])\n",
    "transpose = arr3.T\n",
    "print(arr3)\n",
    "print(transpose)"
   ]
  }
 ],
 "metadata": {
  "kernelspec": {
   "display_name": "Python 3",
   "language": "python",
   "name": "python3"
  },
  "language_info": {
   "codemirror_mode": {
    "name": "ipython",
    "version": 3
   },
   "file_extension": ".py",
   "mimetype": "text/x-python",
   "name": "python",
   "nbconvert_exporter": "python",
   "pygments_lexer": "ipython3",
   "version": "3.13.0"
  }
 },
 "nbformat": 4,
 "nbformat_minor": 5
}
