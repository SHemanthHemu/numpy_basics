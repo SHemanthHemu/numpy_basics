{
 "cells": [
  {
   "cell_type": "code",
   "execution_count": 1,
   "id": "4d65ed1e",
   "metadata": {},
   "outputs": [],
   "source": [
    "import numpy as np\n"
   ]
  },
  {
   "cell_type": "code",
   "execution_count": 3,
   "id": "c3a219ac",
   "metadata": {},
   "outputs": [
    {
     "name": "stdout",
     "output_type": "stream",
     "text": [
      "[False False False  True  True  True]\n",
      "[25 30 35]\n"
     ]
    }
   ],
   "source": [
    "arr = np.array([10,15,20,25,30,35])\n",
    "mask =arr>20\n",
    "print(mask)\n",
    "print(arr[mask])"
   ]
  },
  {
   "cell_type": "code",
   "execution_count": 4,
   "id": "11475f5f",
   "metadata": {},
   "outputs": [
    {
     "name": "stdout",
     "output_type": "stream",
     "text": [
      "[50 60 70 80 90]\n"
     ]
    }
   ],
   "source": [
    "arr1 =np.array([[10,20,30],[40,50,60],[70,80,90]])\n",
    "mask1 = arr1>45\n",
    "print(arr1[arr1>45])"
   ]
  },
  {
   "cell_type": "code",
   "execution_count": null,
   "id": "544f4942",
   "metadata": {},
   "outputs": [
    {
     "name": "stdout",
     "output_type": "stream",
     "text": [
      "[30 40]\n",
      "[10 30 50]\n"
     ]
    }
   ],
   "source": [
    "# & (and) ,| (or) , ~ (not)\n",
    "arr2 = np.array([10,20,30,40,50,-999])\n",
    "print(arr2[(arr2>20)&(arr2<50)])\n",
    "print(arr2[~(arr2 % 20 ==0)])"
   ]
  },
  {
   "cell_type": "code",
   "execution_count": null,
   "id": "162c1108",
   "metadata": {},
   "outputs": [],
   "source": []
  }
 ],
 "metadata": {
  "kernelspec": {
   "display_name": "Python 3",
   "language": "python",
   "name": "python3"
  },
  "language_info": {
   "codemirror_mode": {
    "name": "ipython",
    "version": 3
   },
   "file_extension": ".py",
   "mimetype": "text/x-python",
   "name": "python",
   "nbconvert_exporter": "python",
   "pygments_lexer": "ipython3",
   "version": "3.13.0"
  }
 },
 "nbformat": 4,
 "nbformat_minor": 5
}
