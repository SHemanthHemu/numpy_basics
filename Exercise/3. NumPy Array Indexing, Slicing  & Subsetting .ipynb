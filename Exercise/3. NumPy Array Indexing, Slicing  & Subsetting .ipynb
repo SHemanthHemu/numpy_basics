{
 "cells": [
  {
   "cell_type": "markdown",
   "id": "3f135902",
   "metadata": {},
   "source": [
    "## NumPy Array Indexing, Slicing & Subsetting "
   ]
  },
  {
   "cell_type": "code",
   "execution_count": 1,
   "id": "03001fb3",
   "metadata": {},
   "outputs": [],
   "source": [
    "import numpy as np"
   ]
  },
  {
   "cell_type": "code",
   "execution_count": 2,
   "id": "1e05d091",
   "metadata": {},
   "outputs": [],
   "source": [
    "arr = np.array([10,20,30,40,50])\n"
   ]
  },
  {
   "cell_type": "markdown",
   "id": "ae098ba9",
   "metadata": {},
   "source": [
    "## indexing"
   ]
  },
  {
   "cell_type": "code",
   "execution_count": null,
   "id": "27702929",
   "metadata": {},
   "outputs": [
    {
     "name": "stdout",
     "output_type": "stream",
     "text": [
      "10\n",
      "40\n"
     ]
    }
   ],
   "source": [
    "# 1D indexing\n",
    "print(arr[0])\n",
    "print(arr[-2])\n"
   ]
  },
  {
   "cell_type": "code",
   "execution_count": 7,
   "id": "d5c8d5d0",
   "metadata": {},
   "outputs": [
    {
     "data": {
      "text/plain": [
       "array([[1, 2, 3],\n",
       "       [4, 5, 6],\n",
       "       [7, 8, 9]])"
      ]
     },
     "execution_count": 7,
     "metadata": {},
     "output_type": "execute_result"
    }
   ],
   "source": [
    "arr2d = np.array([[1,2,3],[4,5,6],[7,8,9]])\n",
    "arr2d"
   ]
  },
  {
   "cell_type": "code",
   "execution_count": null,
   "id": "7fefd2cb",
   "metadata": {},
   "outputs": [
    {
     "name": "stdout",
     "output_type": "stream",
     "text": [
      "5\n",
      "8\n"
     ]
    }
   ],
   "source": [
    "# 2D indexing\n",
    "print(arr2d[1,1])\n",
    "print(arr2d[2,1])"
   ]
  },
  {
   "cell_type": "markdown",
   "id": "ed078778",
   "metadata": {},
   "source": [
    "## Slicing"
   ]
  },
  {
   "cell_type": "code",
   "execution_count": 12,
   "id": "ba2af73a",
   "metadata": {},
   "outputs": [],
   "source": [
    "arr =np.array([10,20,30,40,50])"
   ]
  },
  {
   "cell_type": "code",
   "execution_count": null,
   "id": "51d8a8ee",
   "metadata": {},
   "outputs": [
    {
     "name": "stdout",
     "output_type": "stream",
     "text": [
      "[20 30 40]\n"
     ]
    }
   ],
   "source": [
    "# 1D slicing\n",
    "arr1 = arr[1:4]\n",
    "print(arr1)"
   ]
  },
  {
   "cell_type": "code",
   "execution_count": 15,
   "id": "63d56769",
   "metadata": {},
   "outputs": [
    {
     "name": "stdout",
     "output_type": "stream",
     "text": [
      "[10 20 30 40]\n"
     ]
    }
   ],
   "source": [
    "print(arr[:4])"
   ]
  },
  {
   "cell_type": "code",
   "execution_count": 16,
   "id": "98ee1e69",
   "metadata": {},
   "outputs": [
    {
     "name": "stdout",
     "output_type": "stream",
     "text": [
      "[30 40 50]\n"
     ]
    }
   ],
   "source": [
    "print(arr[2:])"
   ]
  },
  {
   "cell_type": "code",
   "execution_count": 18,
   "id": "f81350a2",
   "metadata": {},
   "outputs": [
    {
     "name": "stdout",
     "output_type": "stream",
     "text": [
      "[10 40]\n"
     ]
    }
   ],
   "source": [
    "print(arr[::3])"
   ]
  },
  {
   "cell_type": "code",
   "execution_count": 22,
   "id": "487985c2",
   "metadata": {},
   "outputs": [
    {
     "data": {
      "text/plain": [
       "array([[11, 11, 17],\n",
       "       [11, 14, 14],\n",
       "       [19, 16, 14]], dtype=int32)"
      ]
     },
     "execution_count": 22,
     "metadata": {},
     "output_type": "execute_result"
    }
   ],
   "source": [
    "#2D slicing\n",
    "arr2d = np.random.randint(10,20,(3,3))\n",
    "arr2d"
   ]
  },
  {
   "cell_type": "code",
   "execution_count": 23,
   "id": "4432d01e",
   "metadata": {},
   "outputs": [
    {
     "name": "stdout",
     "output_type": "stream",
     "text": [
      "[[11 17]\n",
      " [14 14]]\n"
     ]
    }
   ],
   "source": [
    "print(arr2d[0:2,1:3])"
   ]
  },
  {
   "cell_type": "markdown",
   "id": "c126b37a",
   "metadata": {},
   "source": [
    "## boolean indexing"
   ]
  },
  {
   "cell_type": "code",
   "execution_count": 24,
   "id": "47b9c57d",
   "metadata": {},
   "outputs": [
    {
     "name": "stdout",
     "output_type": "stream",
     "text": [
      "[14 28 16 30]\n"
     ]
    }
   ],
   "source": [
    "data = np.array([12,14,28,16,8,30])\n",
    "# filter values > 12\n",
    "filtered = data[data>12]\n",
    "\n",
    "print(filtered)\n"
   ]
  },
  {
   "cell_type": "markdown",
   "id": "50759ca3",
   "metadata": {},
   "source": [
    "## fancy indexing"
   ]
  },
  {
   "cell_type": "code",
   "execution_count": 25,
   "id": "75c96847",
   "metadata": {},
   "outputs": [
    {
     "name": "stdout",
     "output_type": "stream",
     "text": [
      "[12 28  8]\n"
     ]
    }
   ],
   "source": [
    "data1 = np.array([12,14,28,16,8,30])\n",
    "indexes = [0,2,4]\n",
    "print(data1[indexes])"
   ]
  },
  {
   "cell_type": "markdown",
   "id": "25493fab",
   "metadata": {},
   "source": [
    "## views Vs copies"
   ]
  },
  {
   "cell_type": "code",
   "execution_count": 26,
   "id": "290c1f8d",
   "metadata": {},
   "outputs": [
    {
     "name": "stdout",
     "output_type": "stream",
     "text": [
      "[12 14 28 16  8 30]\n",
      "[14 28 16]\n"
     ]
    }
   ],
   "source": [
    "data2 = np.array([12,14,28,16,8,30])\n",
    "view = data2[1:4]\n",
    "print(data2)\n",
    "print(view)"
   ]
  },
  {
   "cell_type": "code",
   "execution_count": 27,
   "id": "60a08017",
   "metadata": {},
   "outputs": [],
   "source": [
    "view[1]=35"
   ]
  },
  {
   "cell_type": "code",
   "execution_count": 29,
   "id": "c1288edc",
   "metadata": {},
   "outputs": [
    {
     "name": "stdout",
     "output_type": "stream",
     "text": [
      "[12 14 35 16  8 30]\n"
     ]
    }
   ],
   "source": [
    "print(data2)"
   ]
  },
  {
   "cell_type": "code",
   "execution_count": 32,
   "id": "d8edc5a9",
   "metadata": {},
   "outputs": [
    {
     "name": "stdout",
     "output_type": "stream",
     "text": [
      "[14 28 16  8]\n"
     ]
    }
   ],
   "source": [
    "copy = data[[1,2,3,4]]\n",
    "print(copy)"
   ]
  },
  {
   "cell_type": "code",
   "execution_count": 33,
   "id": "bd505b43",
   "metadata": {},
   "outputs": [],
   "source": [
    "copy[1] =45"
   ]
  },
  {
   "cell_type": "code",
   "execution_count": 34,
   "id": "90984149",
   "metadata": {},
   "outputs": [
    {
     "name": "stdout",
     "output_type": "stream",
     "text": [
      "[14 45 16  8]\n",
      "[12 14 35 16  8 30]\n"
     ]
    }
   ],
   "source": [
    "print(copy)\n",
    "print(data2)"
   ]
  }
 ],
 "metadata": {
  "kernelspec": {
   "display_name": "Python 3",
   "language": "python",
   "name": "python3"
  },
  "language_info": {
   "codemirror_mode": {
    "name": "ipython",
    "version": 3
   },
   "file_extension": ".py",
   "mimetype": "text/x-python",
   "name": "python",
   "nbconvert_exporter": "python",
   "pygments_lexer": "ipython3",
   "version": "3.13.0"
  }
 },
 "nbformat": 4,
 "nbformat_minor": 5
}
