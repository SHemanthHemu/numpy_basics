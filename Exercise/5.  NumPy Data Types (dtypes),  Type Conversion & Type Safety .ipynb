{
 "cells": [
  {
   "cell_type": "code",
   "execution_count": 1,
   "id": "8c141f24",
   "metadata": {},
   "outputs": [],
   "source": [
    "import numpy as np"
   ]
  },
  {
   "cell_type": "code",
   "execution_count": null,
   "id": "4d3fd2b7",
   "metadata": {},
   "outputs": [
    {
     "name": "stdout",
     "output_type": "stream",
     "text": [
      "int64\n",
      "24\n"
     ]
    }
   ],
   "source": [
    "arr = np.array([1,2,3])\n",
    "print(arr.dtype)\n",
    "print(arr.nbytes)"
   ]
  },
  {
   "cell_type": "code",
   "execution_count": 7,
   "id": "a9406a08",
   "metadata": {},
   "outputs": [
    {
     "name": "stdout",
     "output_type": "stream",
     "text": [
      "int64\n",
      "24\n"
     ]
    }
   ],
   "source": [
    "arr1 = np.array([1,2,3])\n",
    "print(arr.dtype)\n",
    "print(arr.nbytes)"
   ]
  },
  {
   "cell_type": "code",
   "execution_count": 14,
   "id": "b367a5af",
   "metadata": {},
   "outputs": [
    {
     "name": "stdout",
     "output_type": "stream",
     "text": [
      "float64\n",
      "24\n"
     ]
    }
   ],
   "source": [
    "arr1 = np.array([1.2,2,3],dtype=np.float64)\n",
    "print(arr1.dtype)\n",
    "print(arr1.nbytes)"
   ]
  },
  {
   "cell_type": "code",
   "execution_count": 18,
   "id": "3b3c5ee1",
   "metadata": {},
   "outputs": [
    {
     "name": "stdout",
     "output_type": "stream",
     "text": [
      "float64\n",
      "24\n",
      "float32\n",
      "12\n"
     ]
    }
   ],
   "source": [
    "arr32 = arr1.astype(np.float32)\n",
    "print(arr1.dtype)\n",
    "print(arr1.nbytes)\n",
    "print(arr32.dtype)\n",
    "print(arr32.nbytes)"
   ]
  },
  {
   "cell_type": "code",
   "execution_count": null,
   "id": "fb6209d5",
   "metadata": {},
   "outputs": [
    {
     "name": "stdout",
     "output_type": "stream",
     "text": [
      "<U21\n",
      "336\n"
     ]
    }
   ],
   "source": [
    "arr1 = np.array([\"1.2\",\"2\",3,\"h\"])\n",
    "print(arr1.dtype)\n",
    "print(arr1.nbytes)\n"
   ]
  },
  {
   "cell_type": "code",
   "execution_count": 24,
   "id": "bd7fdd26",
   "metadata": {},
   "outputs": [
    {
     "name": "stdout",
     "output_type": "stream",
     "text": [
      "float64\n",
      "32\n"
     ]
    }
   ],
   "source": [
    "arr1 = np.array([1.2,2,3,65])\n",
    "print(arr1.dtype)\n",
    "print(arr1.nbytes)\n"
   ]
  },
  {
   "cell_type": "code",
   "execution_count": 23,
   "id": "7d2d3c88",
   "metadata": {},
   "outputs": [
    {
     "ename": "ValueError",
     "evalue": "invalid literal for int() with base 10: np.str_('h')",
     "output_type": "error",
     "traceback": [
      "\u001b[1;31m---------------------------------------------------------------------------\u001b[0m",
      "\u001b[1;31mValueError\u001b[0m                                Traceback (most recent call last)",
      "Cell \u001b[1;32mIn[23], line 1\u001b[0m\n\u001b[1;32m----> 1\u001b[0m arr32 \u001b[38;5;241m=\u001b[39m \u001b[43marr1\u001b[49m\u001b[38;5;241;43m.\u001b[39;49m\u001b[43mastype\u001b[49m\u001b[43m(\u001b[49m\u001b[43mnp\u001b[49m\u001b[38;5;241;43m.\u001b[39;49m\u001b[43mint64\u001b[49m\u001b[43m)\u001b[49m\n",
      "\u001b[1;31mValueError\u001b[0m: invalid literal for int() with base 10: np.str_('h')"
     ]
    }
   ],
   "source": [
    "arr32 = arr1.astype(np.int64)"
   ]
  }
 ],
 "metadata": {
  "kernelspec": {
   "display_name": "Python 3",
   "language": "python",
   "name": "python3"
  },
  "language_info": {
   "codemirror_mode": {
    "name": "ipython",
    "version": 3
   },
   "file_extension": ".py",
   "mimetype": "text/x-python",
   "name": "python",
   "nbconvert_exporter": "python",
   "pygments_lexer": "ipython3",
   "version": "3.13.0"
  }
 },
 "nbformat": 4,
 "nbformat_minor": 5
}
