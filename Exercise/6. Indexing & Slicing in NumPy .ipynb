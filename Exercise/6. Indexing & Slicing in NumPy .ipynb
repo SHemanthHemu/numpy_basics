{
 "cells": [
  {
   "cell_type": "markdown",
   "id": "760b12c1",
   "metadata": {},
   "source": [
    "## Indexing & Slicing in NumPy "
   ]
  },
  {
   "cell_type": "code",
   "execution_count": 1,
   "id": "e0a7dbd5",
   "metadata": {},
   "outputs": [],
   "source": [
    "import numpy as np"
   ]
  },
  {
   "cell_type": "code",
   "execution_count": 3,
   "id": "2e91cd11",
   "metadata": {},
   "outputs": [],
   "source": [
    "data = np.array([100,200,300,400,500,600])"
   ]
  },
  {
   "cell_type": "code",
   "execution_count": null,
   "id": "6570f34c",
   "metadata": {},
   "outputs": [
    {
     "name": "stdout",
     "output_type": "stream",
     "text": [
      "100\n",
      "600\n"
     ]
    }
   ],
   "source": [
    "# indexing\n",
    "print(data[0]) #positive indexing\n",
    "print(data[-1])# negitive indexing"
   ]
  },
  {
   "cell_type": "code",
   "execution_count": 9,
   "id": "e76c1933",
   "metadata": {},
   "outputs": [
    {
     "name": "stdout",
     "output_type": "stream",
     "text": [
      "[[100 200 300]\n",
      " [400 500 600]]\n"
     ]
    }
   ],
   "source": [
    "data1 = np.array([[100,200,300],[400,500,600]])\n",
    "print(data1)"
   ]
  },
  {
   "cell_type": "code",
   "execution_count": 11,
   "id": "9db562fc",
   "metadata": {},
   "outputs": [
    {
     "name": "stdout",
     "output_type": "stream",
     "text": [
      "200\n",
      "200\n"
     ]
    }
   ],
   "source": [
    "print(data1[0,1])\n",
    "print(data1[0][1])"
   ]
  },
  {
   "cell_type": "code",
   "execution_count": 12,
   "id": "50fd5388",
   "metadata": {},
   "outputs": [],
   "source": [
    "#slicing \n",
    "data2 = np.array([100,200,300,400,500,600])"
   ]
  },
  {
   "cell_type": "code",
   "execution_count": 14,
   "id": "c8121cdc",
   "metadata": {},
   "outputs": [
    {
     "name": "stdout",
     "output_type": "stream",
     "text": [
      "[200 400 600]\n"
     ]
    }
   ],
   "source": [
    "print(data2[1:6:2])"
   ]
  },
  {
   "cell_type": "code",
   "execution_count": 16,
   "id": "f92df8e6",
   "metadata": {},
   "outputs": [
    {
     "name": "stdout",
     "output_type": "stream",
     "text": [
      "[[100 200 300]\n",
      " [400 500 600]]\n"
     ]
    }
   ],
   "source": [
    "data3 = np.array([[100,200,300],[400,500,600]])\n",
    "print(data3)"
   ]
  },
  {
   "cell_type": "code",
   "execution_count": 19,
   "id": "86d975eb",
   "metadata": {},
   "outputs": [
    {
     "name": "stdout",
     "output_type": "stream",
     "text": [
      "[[200 300]\n",
      " [500 600]]\n"
     ]
    }
   ],
   "source": [
    "# 2d array slicing\n",
    "print(data3[0:2,1:3])"
   ]
  }
 ],
 "metadata": {
  "kernelspec": {
   "display_name": "Python 3",
   "language": "python",
   "name": "python3"
  },
  "language_info": {
   "codemirror_mode": {
    "name": "ipython",
    "version": 3
   },
   "file_extension": ".py",
   "mimetype": "text/x-python",
   "name": "python",
   "nbconvert_exporter": "python",
   "pygments_lexer": "ipython3",
   "version": "3.13.0"
  }
 },
 "nbformat": 4,
 "nbformat_minor": 5
}
