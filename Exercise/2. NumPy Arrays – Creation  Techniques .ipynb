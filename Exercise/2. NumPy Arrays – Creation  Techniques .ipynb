{
 "cells": [
  {
   "cell_type": "code",
   "execution_count": 1,
   "id": "4c28cca4",
   "metadata": {},
   "outputs": [],
   "source": [
    "import numpy as np"
   ]
  },
  {
   "cell_type": "markdown",
   "id": "aa11ad8b",
   "metadata": {},
   "source": [
    "## Array creation techniques (functions)"
   ]
  },
  {
   "cell_type": "code",
   "execution_count": null,
   "id": "13c4700b",
   "metadata": {},
   "outputs": [
    {
     "data": {
      "text/plain": [
       "array([1, 2, 5, 6, 8])"
      ]
     },
     "execution_count": 3,
     "metadata": {},
     "output_type": "execute_result"
    }
   ],
   "source": [
    "list = [1,2,5,6,8] # 1d array\n",
    "np.array(list)"
   ]
  },
  {
   "cell_type": "code",
   "execution_count": 7,
   "id": "b463cf75",
   "metadata": {},
   "outputs": [
    {
     "data": {
      "text/plain": [
       "array([[0, 0, 0],\n",
       "       [0, 0, 0]])"
      ]
     },
     "execution_count": 7,
     "metadata": {},
     "output_type": "execute_result"
    }
   ],
   "source": [
    "np.zeros((2,3),dtype=int) # 2D array"
   ]
  },
  {
   "cell_type": "code",
   "execution_count": 9,
   "id": "12b404c6",
   "metadata": {},
   "outputs": [
    {
     "data": {
      "text/plain": [
       "array([[1, 1, 1],\n",
       "       [1, 1, 1]])"
      ]
     },
     "execution_count": 9,
     "metadata": {},
     "output_type": "execute_result"
    }
   ],
   "source": [
    "np.ones((2,3),dtype=int)"
   ]
  },
  {
   "cell_type": "code",
   "execution_count": 10,
   "id": "1a9df195",
   "metadata": {},
   "outputs": [
    {
     "data": {
      "text/plain": [
       "array([[6, 6, 6, 6],\n",
       "       [6, 6, 6, 6]])"
      ]
     },
     "execution_count": 10,
     "metadata": {},
     "output_type": "execute_result"
    }
   ],
   "source": [
    "np.full((2,4),fill_value=6)"
   ]
  },
  {
   "cell_type": "code",
   "execution_count": 11,
   "id": "dfbad84e",
   "metadata": {},
   "outputs": [
    {
     "data": {
      "text/plain": [
       "array([[1., 0., 0.],\n",
       "       [0., 1., 0.],\n",
       "       [0., 0., 1.]])"
      ]
     },
     "execution_count": 11,
     "metadata": {},
     "output_type": "execute_result"
    }
   ],
   "source": [
    "np.eye(3)"
   ]
  },
  {
   "cell_type": "markdown",
   "id": "be042796",
   "metadata": {},
   "source": [
    "## random data generation"
   ]
  },
  {
   "cell_type": "code",
   "execution_count": 15,
   "id": "6b0f9e6f",
   "metadata": {},
   "outputs": [
    {
     "data": {
      "text/plain": [
       "array([[0.15701012, 0.63047737],\n",
       "       [0.09643798, 0.54881321],\n",
       "       [0.46963633, 0.56774122]])"
      ]
     },
     "execution_count": 15,
     "metadata": {},
     "output_type": "execute_result"
    }
   ],
   "source": [
    "np.random.rand(3,2)"
   ]
  },
  {
   "cell_type": "code",
   "execution_count": 19,
   "id": "96fa2f98",
   "metadata": {},
   "outputs": [
    {
     "data": {
      "text/plain": [
       "array([[ 1.70382384e+00, -1.52232231e+00, -7.49937534e-01],\n",
       "       [ 1.19762984e+00,  1.44109557e+00,  1.09823428e+00],\n",
       "       [-3.11389221e-04,  3.48551304e-02, -1.99456462e+00]])"
      ]
     },
     "execution_count": 19,
     "metadata": {},
     "output_type": "execute_result"
    }
   ],
   "source": [
    "np.random.randn(3,3)"
   ]
  },
  {
   "cell_type": "code",
   "execution_count": 25,
   "id": "e3ba8f6d",
   "metadata": {},
   "outputs": [
    {
     "data": {
      "text/plain": [
       "array([[12, 10, 13],\n",
       "       [12, 10, 12],\n",
       "       [14, 10, 11]], dtype=int32)"
      ]
     },
     "execution_count": 25,
     "metadata": {},
     "output_type": "execute_result"
    }
   ],
   "source": [
    "np.random.randint(10,15,(3,3))"
   ]
  },
  {
   "cell_type": "markdown",
   "id": "77033410",
   "metadata": {},
   "source": [
    "## range function"
   ]
  },
  {
   "cell_type": "code",
   "execution_count": 31,
   "id": "a7bfd80f",
   "metadata": {},
   "outputs": [
    {
     "data": {
      "text/plain": [
       "array([0, 1, 2, 3, 4, 5, 6, 7, 8, 9])"
      ]
     },
     "execution_count": 31,
     "metadata": {},
     "output_type": "execute_result"
    }
   ],
   "source": [
    "np.arange(0,10)"
   ]
  },
  {
   "cell_type": "code",
   "execution_count": 32,
   "id": "cd7c5041",
   "metadata": {},
   "outputs": [
    {
     "data": {
      "text/plain": [
       "array([10.        , 10.32653061, 10.65306122, 10.97959184, 11.30612245,\n",
       "       11.63265306, 11.95918367, 12.28571429, 12.6122449 , 12.93877551,\n",
       "       13.26530612, 13.59183673, 13.91836735, 14.24489796, 14.57142857,\n",
       "       14.89795918, 15.2244898 , 15.55102041, 15.87755102, 16.20408163,\n",
       "       16.53061224, 16.85714286, 17.18367347, 17.51020408, 17.83673469,\n",
       "       18.16326531, 18.48979592, 18.81632653, 19.14285714, 19.46938776,\n",
       "       19.79591837, 20.12244898, 20.44897959, 20.7755102 , 21.10204082,\n",
       "       21.42857143, 21.75510204, 22.08163265, 22.40816327, 22.73469388,\n",
       "       23.06122449, 23.3877551 , 23.71428571, 24.04081633, 24.36734694,\n",
       "       24.69387755, 25.02040816, 25.34693878, 25.67346939, 26.        ])"
      ]
     },
     "execution_count": 32,
     "metadata": {},
     "output_type": "execute_result"
    }
   ],
   "source": [
    "np.linspace(10,26)"
   ]
  },
  {
   "cell_type": "code",
   "execution_count": 37,
   "id": "80e6f7d1",
   "metadata": {},
   "outputs": [],
   "source": [
    "arr = np.random.randint(10,15,(3,3))"
   ]
  },
  {
   "cell_type": "code",
   "execution_count": 40,
   "id": "b0c06ce0",
   "metadata": {},
   "outputs": [
    {
     "data": {
      "text/plain": [
       "array([[11, 10, 10],\n",
       "       [14, 10, 10],\n",
       "       [10, 12, 10]], dtype=int32)"
      ]
     },
     "execution_count": 40,
     "metadata": {},
     "output_type": "execute_result"
    }
   ],
   "source": [
    "arr"
   ]
  },
  {
   "cell_type": "code",
   "execution_count": 38,
   "id": "ea439c8c",
   "metadata": {},
   "outputs": [
    {
     "data": {
      "text/plain": [
       "2"
      ]
     },
     "execution_count": 38,
     "metadata": {},
     "output_type": "execute_result"
    }
   ],
   "source": [
    "arr.ndim"
   ]
  },
  {
   "cell_type": "code",
   "execution_count": 39,
   "id": "5bfbeaa0",
   "metadata": {},
   "outputs": [
    {
     "data": {
      "text/plain": [
       "(3, 3)"
      ]
     },
     "execution_count": 39,
     "metadata": {},
     "output_type": "execute_result"
    }
   ],
   "source": [
    "arr.shape"
   ]
  },
  {
   "cell_type": "code",
   "execution_count": 41,
   "id": "b7cbc772",
   "metadata": {},
   "outputs": [
    {
     "data": {
      "text/plain": [
       "9"
      ]
     },
     "execution_count": 41,
     "metadata": {},
     "output_type": "execute_result"
    }
   ],
   "source": [
    "arr.size"
   ]
  },
  {
   "cell_type": "code",
   "execution_count": 42,
   "id": "eb436bf6",
   "metadata": {},
   "outputs": [
    {
     "data": {
      "text/plain": [
       "dtype('int32')"
      ]
     },
     "execution_count": 42,
     "metadata": {},
     "output_type": "execute_result"
    }
   ],
   "source": [
    "arr.dtype"
   ]
  },
  {
   "cell_type": "code",
   "execution_count": 43,
   "id": "47df38ad",
   "metadata": {},
   "outputs": [
    {
     "data": {
      "text/plain": [
       "36"
      ]
     },
     "execution_count": 43,
     "metadata": {},
     "output_type": "execute_result"
    }
   ],
   "source": [
    "arr.nbytes"
   ]
  },
  {
   "cell_type": "code",
   "execution_count": 44,
   "id": "e3c713f5",
   "metadata": {},
   "outputs": [
    {
     "data": {
      "text/plain": [
       "4"
      ]
     },
     "execution_count": 44,
     "metadata": {},
     "output_type": "execute_result"
    }
   ],
   "source": [
    "arr.itemsize"
   ]
  },
  {
   "cell_type": "code",
   "execution_count": 46,
   "id": "658b89e5",
   "metadata": {},
   "outputs": [],
   "source": [
    "arr = np.array([1,2,3,5,6,8])"
   ]
  },
  {
   "cell_type": "code",
   "execution_count": 47,
   "id": "a2df9b8e",
   "metadata": {},
   "outputs": [
    {
     "data": {
      "text/plain": [
       "dtype('int64')"
      ]
     },
     "execution_count": 47,
     "metadata": {},
     "output_type": "execute_result"
    }
   ],
   "source": [
    "arr.dtype"
   ]
  },
  {
   "cell_type": "code",
   "execution_count": 52,
   "id": "5d87276f",
   "metadata": {},
   "outputs": [
    {
     "data": {
      "text/plain": [
       "dtype('float64')"
      ]
     },
     "execution_count": 52,
     "metadata": {},
     "output_type": "execute_result"
    }
   ],
   "source": [
    "arr_float = arr.astype(float)\n",
    "arr_float .dtype"
   ]
  },
  {
   "cell_type": "code",
   "execution_count": 54,
   "id": "89a544d6",
   "metadata": {},
   "outputs": [
    {
     "data": {
      "text/plain": [
       "array([26.16777933, 26.91320018, 28.8646523 , 21.42604174, 20.27811685,\n",
       "       25.00612408, 25.85131957, 25.19339083, 23.36472706, 20.15079012])"
      ]
     },
     "execution_count": 54,
     "metadata": {},
     "output_type": "execute_result"
    }
   ],
   "source": [
    "float_readings = np.random.uniform(20,30,size=10)\n",
    "float_readings"
   ]
  },
  {
   "cell_type": "code",
   "execution_count": 55,
   "id": "de02ba3b",
   "metadata": {},
   "outputs": [
    {
     "data": {
      "text/plain": [
       "80"
      ]
     },
     "execution_count": 55,
     "metadata": {},
     "output_type": "execute_result"
    }
   ],
   "source": [
    "float_readings.nbytes"
   ]
  },
  {
   "cell_type": "code",
   "execution_count": 58,
   "id": "42c9d87e",
   "metadata": {},
   "outputs": [
    {
     "data": {
      "text/plain": [
       "40"
      ]
     },
     "execution_count": 58,
     "metadata": {},
     "output_type": "execute_result"
    }
   ],
   "source": [
    "int_reading =float_readings.astype(np.int32)\n",
    "int_reading.nbytes"
   ]
  }
 ],
 "metadata": {
  "kernelspec": {
   "display_name": "Python 3",
   "language": "python",
   "name": "python3"
  },
  "language_info": {
   "codemirror_mode": {
    "name": "ipython",
    "version": 3
   },
   "file_extension": ".py",
   "mimetype": "text/x-python",
   "name": "python",
   "nbconvert_exporter": "python",
   "pygments_lexer": "ipython3",
   "version": "3.13.0"
  }
 },
 "nbformat": 4,
 "nbformat_minor": 5
}
