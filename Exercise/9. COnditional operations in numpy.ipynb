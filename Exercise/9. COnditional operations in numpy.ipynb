{
 "cells": [
  {
   "cell_type": "code",
   "execution_count": 2,
   "id": "02cf56ef",
   "metadata": {},
   "outputs": [],
   "source": [
    "import numpy as np"
   ]
  },
  {
   "cell_type": "code",
   "execution_count": 3,
   "id": "7fe2c99a",
   "metadata": {},
   "outputs": [
    {
     "name": "stdout",
     "output_type": "stream",
     "text": [
      "['low' 'high' 'high' 'low']\n"
     ]
    }
   ],
   "source": [
    "temp = np.array([45, 70, 85, 50])\n",
    "status = np.where(temp>60,\"high\",\"low\")\n",
    "print(status)"
   ]
  },
  {
   "cell_type": "code",
   "execution_count": 4,
   "id": "0934b318",
   "metadata": {},
   "outputs": [
    {
     "name": "stdout",
     "output_type": "stream",
     "text": [
      "['safe' 'overheat' 'overheat' 'safe']\n"
     ]
    }
   ],
   "source": [
    "machine_temp = np.array([55, 65, 72, 49]) \n",
    "lables = np.where(machine_temp>60,\"overheat\",\"safe\")\n",
    "print(lables)"
   ]
  },
  {
   "cell_type": "code",
   "execution_count": 5,
   "id": "e827f388",
   "metadata": {},
   "outputs": [
    {
     "name": "stdout",
     "output_type": "stream",
     "text": [
      "[10  0 30  0]\n"
     ]
    }
   ],
   "source": [
    "data = np.array([10, -1, 30, -1]) \n",
    "cleaned = np.where(data == -1,0,data)\n",
    "print(cleaned)"
   ]
  },
  {
   "cell_type": "code",
   "execution_count": 7,
   "id": "1cb7645e",
   "metadata": {},
   "outputs": [
    {
     "name": "stdout",
     "output_type": "stream",
     "text": [
      "['minor' 'modarate' 'major' 'minor']\n"
     ]
    }
   ],
   "source": [
    "downtime_mins = np.array([5, 25, 60, 10]) \n",
    "category = np.where(downtime_mins>30,\"major\",np.where(downtime_mins>10,\"modarate\",\"minor\"))\n",
    "print(category)"
   ]
  },
  {
   "cell_type": "code",
   "execution_count": 10,
   "id": "1cde6754",
   "metadata": {},
   "outputs": [
    {
     "name": "stdout",
     "output_type": "stream",
     "text": [
      "(array([2, 3]),)\n"
     ]
    }
   ],
   "source": [
    "arr = np.array([100, 200, 300, 400]) \n",
    "mask = arr>250\n",
    "print(np.where(mask))"
   ]
  },
  {
   "cell_type": "code",
   "execution_count": 13,
   "id": "7216617f",
   "metadata": {},
   "outputs": [
    {
     "name": "stdout",
     "output_type": "stream",
     "text": [
      "['low' 'medium' 'high' 'medium']\n"
     ]
    }
   ],
   "source": [
    "temps = np.array([45, 60, 75, 90]) \n",
    "conditions = [temp<50,(temp>=50) & (temp<80),temp>=80]\n",
    "choices = [\"low\",\"medium\",\"high\"]\n",
    "output = np.select(conditions,choices,default=\"unknown\")\n",
    "print(output)"
   ]
  }
 ],
 "metadata": {
  "kernelspec": {
   "display_name": "Python 3",
   "language": "python",
   "name": "python3"
  },
  "language_info": {
   "codemirror_mode": {
    "name": "ipython",
    "version": 3
   },
   "file_extension": ".py",
   "mimetype": "text/x-python",
   "name": "python",
   "nbconvert_exporter": "python",
   "pygments_lexer": "ipython3",
   "version": "3.13.0"
  }
 },
 "nbformat": 4,
 "nbformat_minor": 5
}
